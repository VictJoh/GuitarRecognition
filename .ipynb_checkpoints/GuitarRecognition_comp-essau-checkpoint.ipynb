{
 "cells": [
  {
   "cell_type": "markdown",
   "id": "02359f56-7c4c-4298-894c-861875dedd7b",
   "metadata": {},
   "source": [
    "# Guitar-note-recognition"
   ]
  },
  {
   "cell_type": "markdown",
   "id": "57042faa-cd83-4131-aefd-035e02c57076",
   "metadata": {},
   "source": [
    "### Exploring how one can recognize guitar notes by signal processing"
   ]
  },
  {
   "cell_type": "markdown",
   "id": "5364b008",
   "metadata": {},
   "source": [
    "### Introduction"
   ]
  },
  {
   "cell_type": "markdown",
   "id": "43dfe1de",
   "metadata": {},
   "source": [
    "### Theory"
   ]
  },
  {
   "cell_type": "markdown",
   "id": "d43b0ecb",
   "metadata": {},
   "source": [
    "##### What is a guitar note?"
   ]
  },
  {
   "cell_type": "markdown",
   "id": "39568383",
   "metadata": {},
   "source": [
    " First of all a note is ...\n",
    "\n",
    " Tempered tuning...\n",
    " \n",
    " \n",
    " When you pluck a guitar string, you determine the initial shape (displacement) and velocity of the string. The vibration of the string is governed by the one‐dimensional waveequation:\n",
    "\n",
    "$$\n",
    "\\begin{cases}\n",
    "    u_{tt}(x,t) = c^2 u_{xx}(x,t), & 0 < x < L, \\quad t > 0 \\\\[8pt]\n",
    "    u(0,t) = 0, \\quad u(L,t) = 0, & t \\geq 0 \\\\[8pt]\n",
    "    u(x,0) = f(x), & 0 \\leq x \\leq L \\\\[8pt]\n",
    "    u_t(x,0) = g(x), & 0 \\leq x \\leq L\n",
    "\\end{cases}\n",
    "$$\n",
    "\n",
    "\n",
    "Furthermore, we know that the solution to the waveequation is equivalent to an infinite sum of eigenfunctions.\n",
    "\n",
    "$$\n",
    "u(x,t) = \\sum_{n=1}^{\\infty} A_n \\sin\\left(\\frac{n\\pi x}{L}\\right) \\cos\\left(\\frac{n\\pi c\\,t}{L}\\right)\n",
    "$$\n",
    "\n",
    "This is in music theory known as overtones or harmonics. We have the dominant frequency for $n = 1$, but the solution is not a single wave and thus we get a frequency-spectrum. Therefore, we need to pick out the dominant frequency by a Fourier transform.\n"
   ]
  },
  {
   "cell_type": "markdown",
   "id": "8331c9f5",
   "metadata": {},
   "source": [
    "##### Implementing the Fourier transform:"
   ]
  },
  {
   "cell_type": "markdown",
   "id": "b0e659a9",
   "metadata": {},
   "source": [
    "The Fourier Transform is an integral-transformation which we can use to decompose a time-domain single into the frequency-domain..."
   ]
  },
  {
   "cell_type": "markdown",
   "id": "b0d2a8c9",
   "metadata": {},
   "source": [
    "##### Identifying the note"
   ]
  },
  {
   "cell_type": "markdown",
   "id": "88e75d46",
   "metadata": {},
   "source": [
    "Musical notes are based on the distance to a reference pitch, which most often in Western music is A4 with $f_{\\text{A4}} = 440\\,\\text{Hz}$. Futhermore, Western music also utilizes 12-tone equal temperament meaning that each octave is divided into 12 steps \"(...) such that the ratio of the frequencies of any adjacent pair of notes is the same.\"  https://en.wikipedia.org/wiki/Equal_temperament\n",
    "\n",
    "This means that for each note $n$, where $n=0$ is A4, we have:\n",
    "\n",
    "$$\n",
    "f_{n} = 440\\cdot 2^{\\frac{n}{12}} \\,\\text{Hz}\n",
    "$$\n",
    "giving us that \n",
    "\n",
    "$$\n",
    "n = 12\\cdot \\log_{2}\\left(\\frac{f_n}{440\\,\\text{Hz}}\\right)\n",
    "$$\n",
    "\n",
    "However, this introduces a problem as the guitar is not tuned to perfect equal temperament and will not be perfectly tuned to $f_\\text{A4} = 440\\,\\text{Hz}$ either. Instead a guitar will be compromised due to fixed frets. So down the neck the frets are spaced to follow the 12-tone formula. However, the frets spaced equally for each string which gives error as each string has a slightly different ideal placement. https://acousticguitar.com/why-your-guitar-wont-play-perfectly-in-tune-and-why-thats-ok/\n",
    "\n",
    "We will however assume tempered tuning in the beginning and modify if we see that it is nescessary. \n",
    "\n"
   ]
  },
  {
   "cell_type": "markdown",
   "id": "4e368d20",
   "metadata": {},
   "source": [
    "##### Noise Reduction"
   ]
  },
  {
   "cell_type": "markdown",
   "id": "d1ac4778",
   "metadata": {},
   "source": []
  },
  {
   "cell_type": "markdown",
   "id": "397e02d5",
   "metadata": {},
   "source": [
    "### Method"
   ]
  },
  {
   "cell_type": "markdown",
   "id": "bb913f40",
   "metadata": {},
   "source": [
    "### Implementation"
   ]
  },
  {
   "cell_type": "code",
   "execution_count": null,
   "id": "8fe63fcb",
   "metadata": {
    "vscode": {
     "languageId": "plaintext"
    }
   },
   "outputs": [],
   "source": [
    "### Pseudocode\n",
    "\n",
    "# 1. Import a wav file\n",
    "\n",
    "# 2. Remove noise \n",
    "\n",
    "# 3. Divide signal into time windows\n",
    "\n",
    "# 4. For each time window:\n",
    "# a. Do a Fourier-transform with FFT\n",
    "# b. Identify dominant frequencies\n",
    "# c. Map frequencies into notes\n",
    "\n"
   ]
  },
  {
   "cell_type": "code",
   "execution_count": null,
   "id": "f4487164-a850-45d0-a722-b773bacf8efc",
   "metadata": {},
   "outputs": [],
   "source": [
    "### Import basic libraries\n",
    "import numpy as np\n",
    "import scipy as scipy\n"
   ]
  },
  {
   "cell_type": "code",
   "execution_count": null,
   "id": "7cd75411",
   "metadata": {
    "vscode": {
     "languageId": "plaintext"
    }
   },
   "outputs": [],
   "source": [
    "# Reading a wave file\n",
    "\n",
    "import wave\n",
    "\n",
    "def read_wav(file_path):\n",
    "    \"\"\"Reads a WAV file and returns the sample rate and audio data.\"\"\"\n",
    "    with wave.open(file_path, 'rb') as wav_file:\n",
    "        sample_rate = wav_file.getframerate()\n",
    "        num_frames = wav_file.getnframes()\n",
    "        audio_data = np.frombuffer(wav_file.readframes(num_frames), dtype=np.int16)\n",
    "    return sample_rate, audio_data\n",
    "\n",
    "\n"
   ]
  },
  {
   "cell_type": "code",
   "execution_count": null,
   "id": "58302928-1d31-4aae-8018-547526153468",
   "metadata": {},
   "outputs": [],
   "source": [
    "### Making a dictonary of notes and their corresponding frequency\n",
    "\n",
    "def note_frequency(note_number):\n",
    "    \"\"\"Computes frequency of a note given its number in 12-tone equal temperament tuning.\"\"\"\n",
    "    return 440 * 2**((note_number - 49) / 12)  # A4 is 49th note in MIDI notation\n",
    "\n",
    "# Guitar tuning (standard EADGBE), from low E to high E\n",
    "standard_tuning = {\n",
    "    \"E2\": 40,  # Low E (6th string, open)\n",
    "    \"A2\": 45,  # A (5th string, open)\n",
    "    \"D3\": 50,  # D (4th string, open)\n",
    "    \"G3\": 55,  # G (3rd string, open)\n",
    "    \"B3\": 59,  # B (2nd string, open)\n",
    "    \"E4\": 64   # High E (1st string, open)\n",
    "}\n",
    "\n",
    "guitar_notes = {}\n",
    "\n",
    "for string_name, midi_number in standard_tuning.items():\n",
    "    guitar_notes[string_name] = {}\n",
    "    for fret in range(25):  # Up to 24th fret\n",
    "        note_name = f\"{string_name}_fret_{fret}\"\n",
    "        guitar_notes[string_name][fret] = note_frequency(midi_number + fret)\n",
    "\n",
    "if __name__ == \"__main__\":\n",
    "    for string, frets in guitar_notes.items():\n",
    "        for fret, freq in frets.items():\n",
    "            print(f\"{string} Fret {fret}: {freq:.2f} Hz\")\n"
   ]
  },
  {
   "cell_type": "markdown",
   "id": "c955862d",
   "metadata": {},
   "source": [
    "### Experiments and results"
   ]
  },
  {
   "cell_type": "markdown",
   "id": "aa0b44ce",
   "metadata": {},
   "source": [
    "### Discussion"
   ]
  },
  {
   "cell_type": "markdown",
   "id": "ede75855",
   "metadata": {},
   "source": [
    "### Conclusion"
   ]
  },
  {
   "cell_type": "markdown",
   "id": "74362bb6",
   "metadata": {},
   "source": [
    "\n",
    "\n",
    "### Deklarasjon av bruk av generativ kunstig intelligens\n",
    "\n",
    "\"I dette vitenskapelige arbeidet har generativ kunstig intelligens (KI) blitt benyttet. Alle data og personopplysninger er blitt behandlet i henhold til Universitetet i Oslos reglement og jeg som forfatter av dokumentet tar fullt ansvar for dets innhold, påstander og referanser. En oversikt over bruken av generativ KI er gitt under. \n",
    "\n",
    "\\<1. Generating LaTeX-script 2. Spell-checking 3. Debugging code 4. Finding functions and libraries that match what I need in my proram 5. Creating docstrings and commenting code >\"\n",
    "\n",
    "Mellom <> fyller du inn en punktliste med hva AI er brukt til og hvilken språkmodell som er brukt, f. eks. GPT UiO."
   ]
  }
 ],
 "metadata": {
  "kernelspec": {
   "display_name": "Python [conda env:base] *",
   "language": "python",
   "name": "conda-base-py"
  },
  "language_info": {
   "codemirror_mode": {
    "name": "ipython",
    "version": 3
   },
   "file_extension": ".py",
   "mimetype": "text/x-python",
   "name": "python",
   "nbconvert_exporter": "python",
   "pygments_lexer": "ipython3",
   "version": "3.12.7"
  }
 },
 "nbformat": 4,
 "nbformat_minor": 5
}
