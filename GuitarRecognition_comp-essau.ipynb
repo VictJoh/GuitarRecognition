{
 "cells": [
  {
   "cell_type": "markdown",
   "id": "02359f56-7c4c-4298-894c-861875dedd7b",
   "metadata": {},
   "source": [
    "# Guitar-note-recognition"
   ]
  },
  {
   "cell_type": "markdown",
   "id": "57042faa-cd83-4131-aefd-035e02c57076",
   "metadata": {},
   "source": [
    "### Exploring how one can recognize guitar notes by signal processing"
   ]
  },
  {
   "cell_type": "markdown",
   "id": "5364b008",
   "metadata": {},
   "source": [
    "### Introduction"
   ]
  },
  {
   "cell_type": "markdown",
   "id": "43dfe1de",
   "metadata": {},
   "source": [
    "### Theory"
   ]
  },
  {
   "cell_type": "markdown",
   "id": "d43b0ecb",
   "metadata": {},
   "source": [
    "##### What is a guitar note?"
   ]
  },
  {
   "cell_type": "markdown",
   "id": "5ffe48fe",
   "metadata": {},
   "source": []
  },
  {
   "cell_type": "markdown",
   "id": "39568383",
   "metadata": {},
   "source": [
    " First of all a note is ... \n",
    " \n",
    " When you pluck a guitar string, you determine the initial shape (displacement) and velocity of the string. The vibration of the string is governed by the one‐dimensional waveequation:\n",
    "\n",
    "$$\n",
    "\\begin{cases}\n",
    "    u_{tt}(x,t) = c^2 u_{xx}(x,t), & 0 < x < L, \\quad t > 0 \\\\[8pt]\n",
    "    u(0,t) = 0, \\quad u(L,t) = 0, & t \\geq 0 \\\\[8pt]\n",
    "    u(x,0) = f(x), & 0 \\leq x \\leq L \\\\[8pt]\n",
    "    u_t(x,0) = g(x), & 0 \\leq x \\leq L\n",
    "\\end{cases}\n",
    "$$\n",
    "\n",
    "\n",
    "Furthermore, we know that the solution to the waveequation is equivalent to an infinite sum of eigenfunctions.\n",
    "\n",
    "$$\n",
    "u(x,t) = \\sum_{n=1}^{\\infty} A_n \\sin\\left(\\frac{n\\pi x}{L}\\right) \\cos\\left(\\frac{n\\pi c\\,t}{L}\\right)\n",
    "$$\n",
    "\n",
    "This is in music theory known as overtones or harmonics. We have the dominant frequency for $n = 1$, but the solution is not a single wave and thus we get a frequency-spectrum. However, what can become tricky is that the dominant frequency is not nescessary the tone we observe. We thus have to analyze the spectrum and find the best match. We also note that in nature there is no such things as undertones so this makes our search easier.\n"
   ]
  },
  {
   "cell_type": "markdown",
   "id": "8331c9f5",
   "metadata": {},
   "source": [
    "##### Implementing the Fourier transform:"
   ]
  },
  {
   "cell_type": "markdown",
   "id": "b0e659a9",
   "metadata": {},
   "source": [
    "The Fourier Transform is an integral-transformation which we can use to decompose a time-domain single into the frequency-domain..."
   ]
  },
  {
   "cell_type": "markdown",
   "id": "b0d2a8c9",
   "metadata": {},
   "source": [
    "##### Identifying the note"
   ]
  },
  {
   "cell_type": "markdown",
   "id": "88e75d46",
   "metadata": {},
   "source": [
    "Musical notes are based on the distance to a reference pitch, which most often in Western music is A4 with $f_{\\text{A4}} = 440\\,\\text{Hz}$. Futhermore, Western music also utilizes 12-tone equal temperament meaning that each octave is divided into 12 steps \"(...) such that the ratio of the frequencies of any adjacent pair of notes is the same.\"  https://en.wikipedia.org/wiki/Equal_temperament\n",
    "\n",
    "This means that for each note $n$, where $n=0$ is A4, we have:\n",
    "\n",
    "$$\n",
    "f_{n} = 440\\cdot 2^{\\frac{n}{12}} \\,\\text{Hz}\n",
    "$$\n",
    "giving us that \n",
    "\n",
    "$$\n",
    "n = 12\\cdot \\log_{2}\\left(\\frac{f_n}{440\\,\\text{Hz}}\\right)\n",
    "$$\n",
    "\n",
    "However, this introduces a problem as the guitar is not tuned to perfect equal temperament and will not be perfectly tuned to $f_\\text{A4} = 440\\,\\text{Hz}$ either. Instead a guitar will be compromised due to fixed frets. So down the neck the frets are spaced to follow the 12-tone formula. However, the frets spaced equally for each string which gives error as each string has a slightly different ideal placement. https://acousticguitar.com/why-your-guitar-wont-play-perfectly-in-tune-and-why-thats-ok/\n",
    "\n",
    "We will however assume tempered tuning using the midi-standard in the beginning and modify if we see that it is nescessary. \n",
    "\n"
   ]
  },
  {
   "cell_type": "markdown",
   "id": "4e368d20",
   "metadata": {},
   "source": [
    "##### Noise Reduction"
   ]
  },
  {
   "cell_type": "markdown",
   "id": "667e9ec0",
   "metadata": {},
   "source": [
    "##### Measuring time and f sharply"
   ]
  },
  {
   "cell_type": "markdown",
   "id": "d1ac4778",
   "metadata": {},
   "source": []
  },
  {
   "cell_type": "markdown",
   "id": "d7116ab0",
   "metadata": {},
   "source": [
    "##### When does a new tone begin?"
   ]
  },
  {
   "cell_type": "markdown",
   "id": "90c75bcf",
   "metadata": {},
   "source": [
    "We can try to use the short time energy:\n",
    "\n",
    "$$\n",
    "E(n) = \\Sigma^{M-1}_{m=0}|x(nH + m)|^2\n",
    "$$\n",
    "\n",
    "Or the spectral flux given by the Euclidian distance between two spectra. Or a combination."
   ]
  },
  {
   "cell_type": "markdown",
   "id": "397e02d5",
   "metadata": {},
   "source": [
    "### Method"
   ]
  },
  {
   "cell_type": "markdown",
   "id": "bb913f40",
   "metadata": {},
   "source": [
    "### Implementation"
   ]
  },
  {
   "cell_type": "code",
   "execution_count": 100,
   "id": "8fe63fcb",
   "metadata": {},
   "outputs": [],
   "source": [
    "### Pseudocode\n",
    "\n",
    "# 1. Import a wav file\n",
    "\n",
    "# 2. Remove noise \n",
    "\n",
    "# 3. Divide signal into time windows\n",
    "\n",
    "# 4. For each time window:\n",
    "# a. Do a Fourier-transform with FFT\n",
    "# b. Identify dominant frequencies\n",
    "# c. Map frequencies into notes\n",
    "\n"
   ]
  },
  {
   "cell_type": "code",
   "execution_count": 101,
   "id": "f4487164-a850-45d0-a722-b773bacf8efc",
   "metadata": {},
   "outputs": [],
   "source": [
    "### Import basic libraries\n",
    "import numpy as np\n",
    "import matplotlib.pyplot as plt\n",
    "import scipy as scipy\n"
   ]
  },
  {
   "cell_type": "code",
   "execution_count": 102,
   "id": "7cd75411",
   "metadata": {},
   "outputs": [],
   "source": [
    "### Reading wave-file\n",
    "import wave\n",
    "\n",
    "def read_wav(file_path):\n",
    "    \"\"\"\n",
    "    Reads a WAV file and returns the sample rate and audio data as a NumPy array.\n",
    "    \"\"\"\n",
    "    with wave.open(file_path, 'rb') as wav_file:\n",
    "        sample_rate = wav_file.getframerate()\n",
    "        num_frames = wav_file.getnframes()\n",
    "        audio_data = np.frombuffer(wav_file.readframes(num_frames), dtype=np.int16)\n",
    "    return sample_rate, audio_data\n",
    "\n"
   ]
  },
  {
   "cell_type": "code",
   "execution_count": 103,
   "id": "535dfe0f",
   "metadata": {},
   "outputs": [],
   "source": [
    "### Generate example file\n",
    "\n",
    "import numpy as np\n",
    "import wave\n",
    "\n",
    "def generate_sine_wave(frequency=440, duration=2, sample_rate=44100, amplitude=32767):\n",
    "    \"\"\"\n",
    "    Generates a sine wave and saves it as a WAV file.\n",
    "\n",
    "    Parameters:\n",
    "    - frequency: Frequency of the sine wave in Hz (default 440 Hz for A4).\n",
    "    - duration: Duration of the generated wave in seconds (default 2 seconds).\n",
    "    - sample_rate: Sampling rate in Hz (default 44100 Hz).\n",
    "    - amplitude: Amplitude of the wave (default 32767 for 16-bit PCM audio).\n",
    "\n",
    "    Returns:\n",
    "    - File path of the generated WAV file.\n",
    "    \"\"\"\n",
    "    t = np.linspace(0, duration, int(sample_rate * duration), endpoint=False)\n",
    "    waveform = (amplitude * np.sin(2 * np.pi * frequency * t)).astype(np.int16)\n",
    "\n",
    "    file_path = f\"C:/Users/victo/Documents/Github/GuitarRecognition/data/example_{frequency}Hz.wav\"\n",
    "    with wave.open(file_path, \"w\") as wav_file:\n",
    "        wav_file.setnchannels(1)  # Mono\n",
    "        wav_file.setsampwidth(2)  # 16-bit PCM\n",
    "        wav_file.setframerate(sample_rate)\n",
    "        wav_file.writeframes(waveform.tobytes())\n",
    "\n",
    "    return file_path\n"
   ]
  },
  {
   "cell_type": "code",
   "execution_count": 104,
   "id": "58302928-1d31-4aae-8018-547526153468",
   "metadata": {},
   "outputs": [],
   "source": [
    "# Define the mapping of semitone index to note name (using sharps)\n",
    "NOTE_NAMES = ['A', 'A#', 'B', 'C', 'C#', 'D', \n",
    "              'D#', 'E', 'F', 'F#', 'G', 'G#']\n",
    "\n",
    "def note_to_offset(note):\n",
    "    \"\"\"\n",
    "    Given a note name (e.g., 'C4' or 'A#3'), calculate the semitone offset from A4 (440 Hz).\n",
    "    \"\"\"\n",
    "    # Determine if the note has an accidental (sharp)\n",
    "    if len(note) >= 3 and note[1] == '#':\n",
    "        pitch = note[:-1]  # e.g., 'C#'\n",
    "        octave = int(note[-1])\n",
    "    else:\n",
    "        pitch = note[0]    # e.g., 'E'\n",
    "        octave = int(note[1:])\n",
    "        \n",
    "    # Get raw index from NOTE_NAMES\n",
    "    raw_index = NOTE_NAMES.index(pitch)\n",
    "    \n",
    "    # Adjust for octave: notes C and above are considered part of the next octave in this scheme\n",
    "    if raw_index >= NOTE_NAMES.index(\"C\"):\n",
    "        semitone_adjust = raw_index - 12\n",
    "    else:\n",
    "        semitone_adjust = raw_index\n",
    "        \n",
    "    offset = (octave - 4) * 12 + semitone_adjust\n",
    "    return offset\n",
    "\n",
    "def offset_to_note(offset):\n",
    "    \"\"\"\n",
    "    Convert a semitone offset (relative to A4) into its note name (e.g., 'C4').\n",
    "    This version uses the MIDI note number for correct octave handling.\n",
    "    \"\"\"\n",
    "    midi = offset + 69  # MIDI note number for A4 is 69\n",
    "    note_name = NOTE_NAMES[(midi - 9) % 12]  # Adjust index so that MIDI 69 maps to 'A'\n",
    "    octave = (midi // 12) - 1\n",
    "    return f\"{note_name}{octave}\"\n",
    "\n",
    "def offset_to_freq(offset):\n",
    "    \"\"\"\n",
    "    Convert a semitone offset (relative to A4) into frequency in Hz.\n",
    "    \"\"\"\n",
    "    return 440 * 2**(offset/12)\n",
    "\n",
    "# Number of frets on the guitar\n",
    "num_frets = 24\n",
    "\n",
    "# Standard tuning for a 6-string guitar (string number : open note)\n",
    "tuning = {\n",
    "    6: \"E2\",\n",
    "    5: \"A2\",\n",
    "    4: \"D3\",\n",
    "    3: \"G3\",\n",
    "    2: \"B3\",\n",
    "    1: \"E4\"\n",
    "}\n",
    "\n",
    "# Dictionary to store the computed notes and frequencies for each string.\n",
    "# The structure: guitar_notes[string_number] = [(fret, note_name, frequency), ...]\n",
    "guitar_notes = {}\n",
    "\n",
    "for string, open_note in tuning.items():\n",
    "    open_offset = note_to_offset(open_note)\n",
    "    notes_for_string = []\n",
    "    for fret in range(num_frets + 1):\n",
    "        current_offset = open_offset + fret\n",
    "        note_name = offset_to_note(current_offset)\n",
    "        freq = offset_to_freq(current_offset)\n",
    "        notes_for_string.append((fret, note_name, freq))\n",
    "    guitar_notes[string] = notes_for_string\n"
   ]
  },
  {
   "cell_type": "code",
   "execution_count": 105,
   "id": "81cdc61d",
   "metadata": {},
   "outputs": [
    {
     "name": "stdout",
     "output_type": "stream",
     "text": [
      "String 6, Fret 0: E2 - 82.41 Hz\n",
      "String 6, Fret 1: F2 - 87.31 Hz\n",
      "String 6, Fret 2: F#2 - 92.50 Hz\n",
      "String 6, Fret 3: G2 - 98.00 Hz\n",
      "String 6, Fret 4: G#2 - 103.83 Hz\n",
      "String 6, Fret 5: A2 - 110.00 Hz\n",
      "String 6, Fret 6: A#2 - 116.54 Hz\n",
      "String 6, Fret 7: B2 - 123.47 Hz\n",
      "String 6, Fret 8: C3 - 130.81 Hz\n",
      "String 6, Fret 9: C#3 - 138.59 Hz\n",
      "String 6, Fret 10: D3 - 146.83 Hz\n",
      "String 6, Fret 11: D#3 - 155.56 Hz\n",
      "String 6, Fret 12: E3 - 164.81 Hz\n",
      "String 6, Fret 13: F3 - 174.61 Hz\n",
      "String 6, Fret 14: F#3 - 185.00 Hz\n",
      "String 6, Fret 15: G3 - 196.00 Hz\n",
      "String 6, Fret 16: G#3 - 207.65 Hz\n",
      "String 6, Fret 17: A3 - 220.00 Hz\n",
      "String 6, Fret 18: A#3 - 233.08 Hz\n",
      "String 6, Fret 19: B3 - 246.94 Hz\n",
      "String 6, Fret 20: C4 - 261.63 Hz\n",
      "String 6, Fret 21: C#4 - 277.18 Hz\n",
      "String 6, Fret 22: D4 - 293.66 Hz\n",
      "String 6, Fret 23: D#4 - 311.13 Hz\n",
      "String 6, Fret 24: E4 - 329.63 Hz\n"
     ]
    }
   ],
   "source": [
    "\n",
    "# Example: print the computed information for string 6 (low E)\n",
    "for fret, note_name, freq in guitar_notes[6]:\n",
    "    print(f\"String 6, Fret {fret}: {note_name} - {freq:.2f} Hz\")\n"
   ]
  },
  {
   "cell_type": "code",
   "execution_count": 106,
   "id": "985673bc",
   "metadata": {},
   "outputs": [],
   "source": [
    "from scipy.signal import stft\n",
    "\n",
    "def analyze_stft(file_path, window_size=2048, hop_size=1024, window_type='hann'):\n",
    "    \"\"\"\n",
    "    Reads an audio file, computes its short-time Fourier transform (STFT), \n",
    "    and identifies the dominant frequency in each time frame.\n",
    "    \n",
    "    Parameters:\n",
    "    - file_path: Path to the WAV file.\n",
    "    - window_size: Number of samples per window.\n",
    "    - hop_size: Number of samples between successive windows.\n",
    "    - window_type: Type of window to apply (default 'hann').\n",
    "    \n",
    "    Returns:\n",
    "    - times: Array of time bins corresponding to each STFT window.\n",
    "    - dominant_frequencies: Array of dominant frequency (in Hz) per time frame.\n",
    "    - f: Frequency bins from the STFT.\n",
    "    - Zxx: STFT complex spectrum.\n",
    "    \"\"\"\n",
    "    # Read the audio file.\n",
    "    sample_rate, audio_data = read_wav(file_path)\n",
    "    \n",
    "    # Compute the STFT.\n",
    "    f, t, Zxx = stft(audio_data, fs=sample_rate, window='hann', nperseg=window_size, noverlap=window_size-hop_size)\n",
    "    \n",
    "    # For each time slice, find the frequency with maximum magnitude.\n",
    "    dominant_frequencies = []\n",
    "    for i in range(Zxx.shape[1]):\n",
    "        # Consider only positive frequencies by default (f is positive when fs > 0)\n",
    "        magnitudes = np.abs(Zxx[:, i])\n",
    "        idx = np.argmax(magnitudes)\n",
    "        dominant_frequencies.append(f[idx])\n",
    "        \n",
    "    return t, np.array(dominant_frequencies), f, Zxx\n",
    "\n",
    "\n"
   ]
  },
  {
   "cell_type": "code",
   "execution_count": 107,
   "id": "a4f26a26",
   "metadata": {},
   "outputs": [
    {
     "data": {
      "image/png": "[encoded data removed]",
      "text/plain": [
       "<Figure size 1000x400 with 1 Axes>"
      ]
     },
     "metadata": {},
     "output_type": "display_data"
    }
   ],
   "source": [
    "\n",
    "#file_path = generate_sine_wave()\n",
    "file_path = \"C:/Users/victo/Documents/Github/GuitarRecognition/data/gitar1.wav\"\n",
    "\n",
    "# Analyze the audio file using STFT.\n",
    "times, dominant_frequencies, f, Zxx = analyze_stft(file_path)\n",
    "\n",
    "# Plot the dominant frequency over time.\n",
    "plt.figure(figsize=(10, 4))\n",
    "plt.plot(times, dominant_frequencies, marker='o', linestyle='-')\n",
    "plt.title(\"Dominant Frequency Over Time\")\n",
    "plt.xlabel(\"Time (s)\")\n",
    "plt.ylabel(\"Frequency (Hz)\")\n",
    "plt.grid(True)\n",
    "plt.show()"
   ]
  },
  {
   "cell_type": "markdown",
   "id": "0ef19926",
   "metadata": {},
   "source": [
    "We see that we get 430 Hz. This is from the bin size. However, reducin this means that we get greater time-intervals which means that we possibly can not pick up everything. So we now want to introduce an interpolation. We also see that it falls rapidly at the end. To fix this, we need to not include the endpoints."
   ]
  },
  {
   "cell_type": "code",
   "execution_count": 108,
   "id": "ba2a9088",
   "metadata": {},
   "outputs": [
    {
     "data": {
      "image/png": "[encoded data removed]",
      "text/plain": [
       "<Figure size 1000x400 with 1 Axes>"
      ]
     },
     "metadata": {},
     "output_type": "display_data"
    }
   ],
   "source": [
    "def quadratic_interpolation(magnitudes, peak_idx, bin_width):\n",
    "    \"\"\"\n",
    "    Applies quadratic interpolation around the peak bin to refine the frequency estimate.\n",
    "\n",
    "    Parameters:\n",
    "    - magnitudes: Array of magnitudes for frequency bins.\n",
    "    - peak_idx: Index of the maximum magnitude (peak) in the array.\n",
    "    - bin_width: The frequency spacing between bins in Hz.\n",
    "\n",
    "    Returns:\n",
    "    - Correction (in Hz) to be added to the frequency at peak_idx.\n",
    "    \"\"\"\n",
    "    if peak_idx <= 0 or peak_idx >= len(magnitudes) - 1:\n",
    "        return 0.0\n",
    "    # Magnitudes of the peak and its immediate neighbors\n",
    "    alpha = magnitudes[peak_idx - 1]\n",
    "    beta = magnitudes[peak_idx]\n",
    "    gamma = magnitudes[peak_idx + 1]\n",
    "    \n",
    "    # Compute the correction factor (delta) based on the parabolic fit\n",
    "    denominator = alpha - 2 * beta + gamma\n",
    "    if denominator == 0:\n",
    "        delta = 0\n",
    "    else:\n",
    "        delta = 0.5 * (alpha - gamma) / denominator\n",
    "    return delta * bin_width\n",
    "\n",
    "def analyze_stft_interpolated(file_path, window_size=2048, hop_size=1024, window_type='hann'):\n",
    "    \"\"\"\n",
    "    Reads an audio file, computes its STFT, and identifies the refined dominant frequency \n",
    "    in each time frame using quadratic interpolation while skipping the endpoints.\n",
    "\n",
    "    Parameters:\n",
    "    - file_path: Path to the WAV file.\n",
    "    - window_size: Number of samples per window.\n",
    "    - hop_size: Number of samples between successive windows.\n",
    "    - window_type: Type of window to apply.\n",
    "\n",
    "    Returns:\n",
    "    - times: Array of time bins (excluding the first and last frames).\n",
    "    - interpolated_frequencies: Array of refined dominant frequency (in Hz) per time frame.\n",
    "    - f: Frequency bins from the STFT.\n",
    "    - Zxx: STFT complex spectrum.\n",
    "    \"\"\"\n",
    "    # Read the audio file.\n",
    "    sample_rate, audio_data = read_wav(file_path)\n",
    "    \n",
    "    # Compute the STFT.\n",
    "    f, t, Zxx = stft(audio_data, fs=sample_rate, window=window_type, \n",
    "                       nperseg=window_size, noverlap=window_size-hop_size)\n",
    "    \n",
    "    # Frequency bin width in Hz (assuming uniform spacing)\n",
    "    bin_width = f[1] - f[0] if len(f) > 1 else 0\n",
    "    \n",
    "    interpolated_frequencies = []\n",
    "    refined_times = []\n",
    "    \n",
    "    # Exclude the first and last time frames to avoid edge artifacts.\n",
    "    for i in range(1, Zxx.shape[1] - 1):\n",
    "        magnitudes = np.abs(Zxx[:, i])\n",
    "        peak_idx = np.argmax(magnitudes)\n",
    "        # Basic frequency estimate from the peak index.\n",
    "        basic_freq = f[peak_idx]\n",
    "        # Calculate correction using quadratic interpolation.\n",
    "        correction = quadratic_interpolation(magnitudes, peak_idx, bin_width)\n",
    "        refined_freq = basic_freq + correction\n",
    "        interpolated_frequencies.append(refined_freq)\n",
    "        refined_times.append(t[i])\n",
    "        \n",
    "    return np.array(refined_times), np.array(interpolated_frequencies), f, Zxx\n",
    "\n",
    "# Analyze the audio file using STFT with quadratic interpolation.\n",
    "times, interpolated_frequencies, f, Zxx = analyze_stft_interpolated(file_path, window_size=2048, hop_size=1024)\n",
    "\n",
    "# Plot the refined dominant frequency over time.\n",
    "plt.figure(figsize=(10, 4))\n",
    "plt.plot(times, interpolated_frequencies, marker='o', linestyle='-')\n",
    "plt.title(\"Refined Dominant Frequency Over Time (Endpoints Excluded)\")\n",
    "plt.xlabel(\"Time (s)\")\n",
    "plt.ylabel(\"Frequency (Hz)\")\n",
    "plt.grid(True)\n",
    "plt.show()\n"
   ]
  },
  {
   "cell_type": "code",
   "execution_count": 109,
   "id": "dd577c3f",
   "metadata": {},
   "outputs": [
    {
     "data": {
      "image/png": "[encoded data removed]",
      "text/plain": [
       "<Figure size 1000x400 with 1 Axes>"
      ]
     },
     "metadata": {},
     "output_type": "display_data"
    },
    {
     "data": {
      "text/plain": [
       "array([ 65.08224016, 130.33032642, 195.35576661])"
      ]
     },
     "execution_count": 109,
     "metadata": {},
     "output_type": "execute_result"
    }
   ],
   "source": [
    "from scipy.signal import find_peaks\n",
    "\n",
    "def analyze_harmonics(file_path, window_size=2048, hop_size=1024, window_type='hann', \n",
    "                        peak_prominence=1e-6):\n",
    "    \"\"\"\n",
    "    Reads an audio file, computes its STFT, and identifies multiple peaks (harmonics)\n",
    "    in each time frame using a peak detection algorithm.\n",
    "\n",
    "    Parameters:\n",
    "    - file_path: Path to the WAV file.\n",
    "    - window_size: Number of samples per window.\n",
    "    - hop_size: Number of samples between successive windows.\n",
    "    - window_type: Type of window to apply (default 'hann').\n",
    "    - peak_prominence: Minimum prominence of peaks to consider (adjust based on signal amplitude).\n",
    "\n",
    "    Returns:\n",
    "    - times: Array of time bins corresponding to each STFT window.\n",
    "    - harmonics_per_frame: List where each element corresponds to a time frame and contains a\n",
    "      tuple of (refined_peak_frequencies, peak_magnitudes).\n",
    "    - f: Frequency bins from the STFT.\n",
    "    - Zxx: STFT complex spectrum.\n",
    "    \"\"\"\n",
    "    # Read the audio file.\n",
    "    sample_rate, audio_data = read_wav(file_path)\n",
    "    \n",
    "    # Compute the STFT.\n",
    "    f, t, Zxx = stft(audio_data, fs=sample_rate, window=window_type, \n",
    "                       nperseg=window_size, noverlap=window_size-hop_size)\n",
    "    bin_width = f[1] - f[0] if len(f) > 1 else 0\n",
    "\n",
    "    harmonics_per_frame = []\n",
    "    \n",
    "    # Process each time frame.\n",
    "    for i in range(Zxx.shape[1]):\n",
    "        magnitudes = np.abs(Zxx[:, i])\n",
    "        \n",
    "        # Set a minimum threshold relative to the maximum magnitude in the frame.\n",
    "        min_threshold = 0.1 * np.max(magnitudes)\n",
    "        \n",
    "        # Detect peaks in the magnitude spectrum with an added condition on minimum magnitude.\n",
    "        peaks, properties = find_peaks(magnitudes, prominence=peak_prominence)\n",
    "        \n",
    "        # Filter out peaks that do not meet the minimum threshold.\n",
    "        valid_peaks = peaks[magnitudes[peaks] >= min_threshold]\n",
    "        peak_mags = magnitudes[valid_peaks]\n",
    "        \n",
    "        # Refine each detected peak using quadratic interpolation.\n",
    "        refined_freqs = []\n",
    "        for peak_idx in valid_peaks:\n",
    "            if 0 < peak_idx < len(magnitudes) - 1:\n",
    "                basic_freq = f[peak_idx]\n",
    "                correction = quadratic_interpolation(magnitudes, peak_idx, bin_width)\n",
    "                refined_freq = basic_freq + correction\n",
    "            else:\n",
    "                refined_freq = f[peak_idx]\n",
    "            refined_freqs.append(refined_freq)\n",
    "        \n",
    "        harmonics_per_frame.append((np.array(refined_freqs), peak_mags))\n",
    "\n",
    "    \n",
    "    return t, harmonics_per_frame, f, Zxx\n",
    "\n",
    "# Example usage:\n",
    "file_path = \"C:/Users/victo/Documents/Github/GuitarRecognition/data/Alesis-Fusion-Clean-Guitar-C3.wav\"\n",
    "times, harmonics, f, Zxx = analyze_harmonics(file_path)\n",
    "\n",
    "# Plotting the detected harmonic frequencies for one time frame (e.g., the first frame):\n",
    "import matplotlib.pyplot as plt\n",
    "\n",
    "# Choose a specific time frame index to visualize (for example, index 10)\n",
    "frame_idx = 50\n",
    "detected_freqs, detected_mags = harmonics[frame_idx]\n",
    "\n",
    "plt.figure(figsize=(10, 4))\n",
    "plt.plot(f, np.abs(Zxx[:, frame_idx]), label='Magnitude Spectrum')\n",
    "plt.plot(detected_freqs, detected_mags, 'ro', label='Detected Peaks')\n",
    "plt.xlim(0, 5000)  # Only plot frequencies up to 5000 Hz\n",
    "plt.title(f\"Detected Harmonics at Time {times[frame_idx]:.3f} s\")\n",
    "plt.xlabel(\"Frequency (Hz)\")\n",
    "plt.ylabel(\"Magnitude\")\n",
    "plt.legend()\n",
    "plt.grid(True)\n",
    "plt.show()\n",
    "\n",
    "detected_freqs"
   ]
  },
  {
   "cell_type": "code",
   "execution_count": 110,
   "id": "d303d340",
   "metadata": {},
   "outputs": [],
   "source": [
    "def find_note(detected_freqs, guitar_notes):\n",
    "    \"\"\"\n",
    "    Given an array of detected frequencies and a guitar_notes dictionary (with keys as string numbers\n",
    "    and values as lists of (fret, note_name, frequency) tuples), this function returns a list of note names\n",
    "    corresponding to each detected frequency, based on the smallest frequency difference.\n",
    "    \n",
    "    Parameters:\n",
    "    - detected_freqs: Array or list of frequencies to be matched.\n",
    "    - guitar_notes: Dictionary mapping each string to a list of tuples (fret, note_name, frequency).\n",
    "    \n",
    "    Returns:\n",
    "    - notes: List of note names that best match each detected frequency.\n",
    "    \"\"\"\n",
    "    # Flatten the guitar_notes dictionary into a single list of candidate (note_name, frequency) pairs.\n",
    "    candidate_notes = []\n",
    "    for string, notes_list in guitar_notes.items():\n",
    "        for fret, note_name, freq in notes_list:\n",
    "            candidate_notes.append((note_name, freq))\n",
    "    \n",
    "    # For each detected frequency, find the candidate note with the smallest absolute frequency difference.\n",
    "    notes = []\n",
    "    for freq in detected_freqs:\n",
    "        best_note = None\n",
    "        min_diff = float('inf')\n",
    "        for note_name, candidate_freq in candidate_notes:\n",
    "            diff = abs(freq - candidate_freq)\n",
    "            if diff < min_diff:\n",
    "                min_diff = diff\n",
    "                best_note = note_name\n",
    "        if min_diff <= 5:\n",
    "            notes.append(best_note)\n",
    "        \n",
    "    return notes\n",
    "\n",
    "\n",
    "candidates = find_note(detected_freqs, guitar_notes)"
   ]
  },
  {
   "cell_type": "code",
   "execution_count": 111,
   "id": "1a2e063c",
   "metadata": {},
   "outputs": [
    {
     "name": "stdout",
     "output_type": "stream",
     "text": [
      "Candidate C3 (f0 = 130.81 Hz) match score: 1274.78\n",
      "Candidate G3 (f0 = 196.00 Hz) match score: 800.36\n",
      "\n",
      "Best candidate note: C3 with score: 1274.78\n"
     ]
    }
   ],
   "source": [
    "def match_candidate_to_spectrum(candidate_freq, f, spectrum, num_harmonics=5, tolerance=5):\n",
    "    \"\"\"\n",
    "    Computes a match score for a candidate note based on its expected harmonic series.\n",
    "\n",
    "    Parameters:\n",
    "    - candidate_freq: Fundamental frequency (Hz) of the candidate note.\n",
    "    - f: Array of frequency bins from the STFT.\n",
    "    - spectrum: Amplitude spectrum for a given time frame.\n",
    "    - num_harmonics: Number of harmonics to consider (default 5).\n",
    "    - tolerance: Tolerance in Hz to decide if a spectral peak is close enough to the expected harmonic.\n",
    "\n",
    "    Returns:\n",
    "    - match_score: A score reflecting how well the candidate's harmonics are represented.\n",
    "    \"\"\"\n",
    "    match_score = 0.0\n",
    "    for harmonic in range(1, num_harmonics + 1):\n",
    "        expected_freq = candidate_freq * harmonic\n",
    "        # Find the frequency bin closest to the expected harmonic.\n",
    "        idx = np.argmin(np.abs(f - expected_freq))\n",
    "        # If the difference is within the tolerance, add the amplitude to the score.\n",
    "        if np.abs(f[idx] - expected_freq) < tolerance:\n",
    "            match_score += spectrum[idx]\n",
    "    return match_score\n",
    "\n",
    "def best_match_from_candidates(candidates, f, spectrum, tolerance=5, num_harmonics=5):\n",
    "    \"\"\"\n",
    "    Selects the candidate note that best fits the measured spectrum by comparing\n",
    "    the energy in its expected harmonic frequencies.\n",
    "\n",
    "    Parameters:\n",
    "    - candidates: List of candidate note names (e.g., ['C3', 'E3']).\n",
    "    - f: Array of frequency bins from the STFT.\n",
    "    - spectrum: Amplitude spectrum for the chosen time frame.\n",
    "    - tolerance: Frequency tolerance in Hz (default 5 Hz).\n",
    "    - num_harmonics: Number of harmonics to consider for the matching score.\n",
    "\n",
    "    Returns:\n",
    "    - best_candidate: The candidate note name with the highest match score.\n",
    "    - best_score: The corresponding match score.\n",
    "    \"\"\"\n",
    "    best_score = -np.inf\n",
    "    best_candidate = None\n",
    "\n",
    "    for candidate in candidates:\n",
    "        # Compute the fundamental frequency from the candidate note.\n",
    "        offset = note_to_offset(candidate)\n",
    "        candidate_freq = offset_to_freq(offset)\n",
    "        score = match_candidate_to_spectrum(candidate_freq, f, spectrum, num_harmonics, tolerance)\n",
    "        print(f\"Candidate {candidate} (f0 = {candidate_freq:.2f} Hz) match score: {score:.2f}\")\n",
    "        if score > best_score:\n",
    "            best_score = score\n",
    "            best_candidate = candidate\n",
    "\n",
    "    return best_candidate, best_score\n",
    "\n",
    "# Example usage:\n",
    "frame_idx = 50  # A random time frame\n",
    "\n",
    "# Extract the amplitude spectrum for that frame.\n",
    "spectrum_frame = np.abs(Zxx[:, frame_idx])\n",
    "\n",
    "candidates = find_note(detected_freqs, guitar_notes)\n",
    "\n",
    "best_candidate, best_score = best_match_from_candidates(candidates, f, spectrum_frame)\n",
    "print(f\"\\nBest candidate note: {best_candidate} with score: {best_score:.2f}\")\n",
    "\n",
    "\n"
   ]
  },
  {
   "cell_type": "code",
   "execution_count": null,
   "id": "9fd33d74",
   "metadata": {},
   "outputs": [],
   "source": []
  },
  {
   "cell_type": "markdown",
   "id": "c955862d",
   "metadata": {
    "jp-MarkdownHeadingCollapsed": true
   },
   "source": [
    "### Experiments and results"
   ]
  },
  {
   "cell_type": "markdown",
   "id": "aa0b44ce",
   "metadata": {},
   "source": [
    "### Discussion"
   ]
  },
  {
   "cell_type": "markdown",
   "id": "ede75855",
   "metadata": {},
   "source": [
    "### Conclusion"
   ]
  },
  {
   "cell_type": "markdown",
   "id": "74362bb6",
   "metadata": {},
   "source": [
    "### Deklarasjon av bruk av generativ kunstig intelligens\n",
    "\n",
    "I dette vitenskapelige arbeidet har generativ kunstig intelligens (KI) blitt benyttet.  \n",
    "Alle data og personopplysninger er blitt behandlet i henhold til Universitetet i Oslos reglement,  \n",
    "og jeg som forfatter av dokumentet tar fullt ansvar for dets innhold, påstander og referanser.  \n",
    "\n",
    "### Oversikt over bruken av generativ KI:\n",
    "- Generering av LaTeX-script\n",
    "- Stavekontroll\n",
    "- Debugging av kode\n",
    "- Finne funksjoner og biblioteker som passer til programmets behov\n",
    "- Oppretting av docstrings og kommentering av kode\n",
    "- Optimalisering av kode\n",
    "- Faktasjekking\n",
    "- Generering av korte kode-snutter basert på pseudokode\n",
    "- Navngivning av variabler i henhold til konvensjoner\n",
    "\n",
    "**Brukt språkmodell:** OpenAI ChatGPT\n"
   ]
  },
  {
   "cell_type": "markdown",
   "id": "a3326207",
   "metadata": {},
   "source": [
    "### References"
   ]
  },
  {
   "cell_type": "markdown",
   "id": "0d932a5e",
   "metadata": {},
   "source": [
    "http://audition.ens.fr/adc/pdf/2002_JASA_YIN.pdf"
   ]
  }
 ],
 "metadata": {
  "kernelspec": {
   "display_name": "base",
   "language": "python",
   "name": "python3"
  },
  "language_info": {
   "codemirror_mode": {
    "name": "ipython",
    "version": 3
   },
   "file_extension": ".py",
   "mimetype": "text/x-python",
   "name": "python",
   "nbconvert_exporter": "python",
   "pygments_lexer": "ipython3",
   "version": "3.12.7"
  }
 },
 "nbformat": 4,
 "nbformat_minor": 5
}
